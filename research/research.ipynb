{
 "cells": [
  {
   "cell_type": "code",
   "execution_count": 17,
   "metadata": {},
   "outputs": [],
   "source": [
    "import sys\n",
    "import os\n",
    "\n",
    "# Добавление пути к проекту\n",
    "sys.path.append(os.path.abspath(os.path.join('..')))\n",
    "\n",
    "from client import feed_cat, pet_cat\n"
   ]
  },
  {
   "cell_type": "code",
   "execution_count": 1,
   "metadata": {},
   "outputs": [
    {
     "name": "stdout",
     "output_type": "stream",
     "text": [
      "@Al~\n",
      "ex ~\n",
      "- M~\n",
      "ilk~\n"
     ]
    }
   ],
   "source": [
    "# Отправка сообщения на UDP сервер\n",
    "chunk_size = 3\n",
    "message = \"@Alex - Milk\"\n",
    "intercept = int(len(message) % chunk_size > 0)\n",
    "\n",
    "for i in range(len(message) // chunk_size + intercept):\n",
    "    sub_message = message[i*chunk_size:(i+1)*chunk_size] + '~'\n",
    "    print(sub_message)\n",
    "    response = feed_cat(sub_message)\n",
    "    print(f\"UDP Server Response: {response}\")"
   ]
  },
  {
   "cell_type": "code",
   "execution_count": null,
   "metadata": {},
   "outputs": [],
   "source": []
  },
  {
   "cell_type": "code",
   "execution_count": 2,
   "metadata": {},
   "outputs": [],
   "source": []
  },
  {
   "cell_type": "code",
   "execution_count": 3,
   "metadata": {},
   "outputs": [
    {
     "name": "stdout",
     "output_type": "stream",
     "text": [
      "TCP Server Response: Scratched by the Cat\n"
     ]
    }
   ],
   "source": [
    "\n",
    "# Отправка сообщения на TCP сервер\n",
    "response = pet_cat(\"@Alex~\")\n",
    "print(f\"TCP Server Response: {response}\")"
   ]
  },
  {
   "cell_type": "code",
   "execution_count": 4,
   "metadata": {},
   "outputs": [
    {
     "name": "stdout",
     "output_type": "stream",
     "text": [
      "{'feeding': [], 'petting': []}\n"
     ]
    }
   ],
   "source": [
    "import requests\n",
    "\n",
    "# Отправка GET-запроса\n",
    "response = requests.get('http://127.0.0.1:5000/stats')\n",
    "print(response.json())"
   ]
  }
 ],
 "metadata": {
  "kernelspec": {
   "display_name": ".venv",
   "language": "python",
   "name": "python3"
  },
  "language_info": {
   "codemirror_mode": {
    "name": "ipython",
    "version": 3
   },
   "file_extension": ".py",
   "mimetype": "text/x-python",
   "name": "python",
   "nbconvert_exporter": "python",
   "pygments_lexer": "ipython3",
   "version": "3.12.5"
  }
 },
 "nbformat": 4,
 "nbformat_minor": 2
}
