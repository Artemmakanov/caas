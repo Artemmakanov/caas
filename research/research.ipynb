{
 "cells": [
  {
   "cell_type": "code",
   "execution_count": 1,
   "metadata": {},
   "outputs": [],
   "source": [
    "import sys\n",
    "import os\n",
    "\n",
    "# Добавление пути к проекту\n",
    "sys.path.append(os.path.abspath(os.path.join('..')))\n",
    "\n",
    "from client import feed_cat, pet_cat\n"
   ]
  },
  {
   "cell_type": "code",
   "execution_count": 9,
   "metadata": {},
   "outputs": [
    {
     "name": "stdout",
     "output_type": "stream",
     "text": [
      "UDP Server Response: Ignored by the Cat\n",
      "TCP Server Response: Scratched by the Cat\n"
     ]
    }
   ],
   "source": [
    "# Отправка сообщения на UDP сервер\n",
    "response = feed_cat(\"@Alex - Milk~\")\n",
    "print(f\"UDP Server Response: {response}\")\n",
    "\n",
    "# Отправка сообщения на TCP сервер\n",
    "response = pet_cat(\"@Alex~\")\n",
    "print(f\"TCP Server Response: {response}\")"
   ]
  }
 ],
 "metadata": {
  "kernelspec": {
   "display_name": ".venv",
   "language": "python",
   "name": "python3"
  },
  "language_info": {
   "codemirror_mode": {
    "name": "ipython",
    "version": 3
   },
   "file_extension": ".py",
   "mimetype": "text/x-python",
   "name": "python",
   "nbconvert_exporter": "python",
   "pygments_lexer": "ipython3",
   "version": "3.12.5"
  }
 },
 "nbformat": 4,
 "nbformat_minor": 2
}
