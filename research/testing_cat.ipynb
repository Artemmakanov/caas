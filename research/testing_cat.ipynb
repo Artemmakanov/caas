{
 "cells": [
  {
   "cell_type": "code",
   "execution_count": 7,
   "metadata": {},
   "outputs": [
    {
     "name": "stdout",
     "output_type": "stream",
     "text": [
      "@Zavulon - Milk~\n",
      "UDP Server Response: Eaten by the Cat\n"
     ]
    }
   ],
   "source": [
    "import sys\n",
    "import os\n",
    "\n",
    "# Добавление пути к проекту\n",
    "\n",
    "sys.path.append(os.path.abspath(os.path.join('..')))\n",
    "\n",
    "from client import feed_cat, pet_cat\n",
    "\n",
    "# Отправка сообщения на UDP сервер\n",
    "\n",
    "import os\n",
    "\n",
    "CHUNK_SIZE = 400\n",
    "\n",
    "chunk_size = CHUNK_SIZE - 2\n",
    "message = \"@Zavulon - Milk\"\n",
    "intercept = int(len(message) % chunk_size > 0)\n",
    "\n",
    "for i in range(len(message) // chunk_size + intercept):\n",
    "    sub_message = message[i*chunk_size:(i+1)*chunk_size] + '~'\n",
    "    if i < len(message) // chunk_size + intercept - 1:\n",
    "        sub_message += str(i)\n",
    "\n",
    "    print(sub_message)\n",
    "    response = feed_cat(sub_message)\n",
    "    print(f\"UDP Server Response: {response}\")"
   ]
  },
  {
   "cell_type": "code",
   "execution_count": null,
   "metadata": {},
   "outputs": [],
   "source": []
  },
  {
   "cell_type": "code",
   "execution_count": 8,
   "metadata": {},
   "outputs": [
    {
     "ename": "ConnectionRefusedError",
     "evalue": "[Errno 61] Connection refused",
     "output_type": "error",
     "traceback": [
      "\u001b[0;31m---------------------------------------------------------------------------\u001b[0m",
      "\u001b[0;31mConnectionRefusedError\u001b[0m                    Traceback (most recent call last)",
      "Cell \u001b[0;32mIn[8], line 15\u001b[0m\n\u001b[1;32m     11\u001b[0m sub_message \u001b[38;5;241m=\u001b[39m message[i\u001b[38;5;241m*\u001b[39mchunk_size:(i\u001b[38;5;241m+\u001b[39m\u001b[38;5;241m1\u001b[39m)\u001b[38;5;241m*\u001b[39mchunk_size] \n\u001b[1;32m     13\u001b[0m \u001b[38;5;66;03m# print(sub_message)\u001b[39;00m\n\u001b[0;32m---> 15\u001b[0m response \u001b[38;5;241m=\u001b[39m \u001b[43mpet_cat\u001b[49m\u001b[43m(\u001b[49m\u001b[43msub_message\u001b[49m\u001b[43m)\u001b[49m\n\u001b[1;32m     18\u001b[0m \u001b[38;5;28mprint\u001b[39m(\u001b[38;5;124mf\u001b[39m\u001b[38;5;124m\"\u001b[39m\u001b[38;5;124mTCP Server Response: \u001b[39m\u001b[38;5;132;01m{\u001b[39;00mresponse\u001b[38;5;132;01m}\u001b[39;00m\u001b[38;5;124m\"\u001b[39m)\n",
      "File \u001b[0;32m~/Documents/caas/client.py:29\u001b[0m, in \u001b[0;36mpet_cat\u001b[0;34m(message)\u001b[0m\n\u001b[1;32m     27\u001b[0m target, port \u001b[38;5;241m=\u001b[39m resolve_srv(\u001b[38;5;124m\"\u001b[39m\u001b[38;5;124mpet\u001b[39m\u001b[38;5;124m\"\u001b[39m, \u001b[38;5;124m\"\u001b[39m\u001b[38;5;124mtcp\u001b[39m\u001b[38;5;124m\"\u001b[39m, \u001b[38;5;124m\"\u001b[39m\u001b[38;5;124mcatdomain.local\u001b[39m\u001b[38;5;124m\"\u001b[39m)\n\u001b[1;32m     28\u001b[0m sock \u001b[38;5;241m=\u001b[39m socket\u001b[38;5;241m.\u001b[39msocket(socket\u001b[38;5;241m.\u001b[39mAF_INET, socket\u001b[38;5;241m.\u001b[39mSOCK_STREAM)\n\u001b[0;32m---> 29\u001b[0m \u001b[43msock\u001b[49m\u001b[38;5;241;43m.\u001b[39;49m\u001b[43mconnect\u001b[49m\u001b[43m(\u001b[49m\u001b[43m(\u001b[49m\u001b[43mtarget\u001b[49m\u001b[43m,\u001b[49m\u001b[43m \u001b[49m\u001b[43mport\u001b[49m\u001b[43m)\u001b[49m\u001b[43m)\u001b[49m\n\u001b[1;32m     30\u001b[0m sock\u001b[38;5;241m.\u001b[39msendall(message\u001b[38;5;241m.\u001b[39mencode())\n\u001b[1;32m     31\u001b[0m response \u001b[38;5;241m=\u001b[39m sock\u001b[38;5;241m.\u001b[39mrecv(\u001b[38;5;241m1024\u001b[39m)\n",
      "\u001b[0;31mConnectionRefusedError\u001b[0m: [Errno 61] Connection refused"
     ]
    }
   ],
   "source": [
    "\n",
    "# Отправка сообщения на TCP сервер\n",
    "CHUNK_SIZE = 4\n",
    "\n",
    "chunk_size = CHUNK_SIZE \n",
    "\n",
    "user_ids = [\"@Alex\", \"@Zavulon111\"]\n",
    "message = \"~\".join(user_ids) + '~'\n",
    "intercept = int(len(message) % chunk_size > 0)\n",
    "\n",
    "for i in range(len(message) // chunk_size + intercept):\n",
    "    sub_message = message[i*chunk_size:(i+1)*chunk_size] \n",
    "\n",
    "    # print(sub_message)\n",
    "\n",
    "    response = pet_cat(sub_message)\n",
    "\n",
    "\n",
    "    print(f\"TCP Server Response: {response}\")\n",
    "    \n"
   ]
  },
  {
   "cell_type": "code",
   "execution_count": 9,
   "metadata": {},
   "outputs": [
    {
     "name": "stdout",
     "output_type": "stream",
     "text": [
      "{'feed': {'@Zavulon': [{'success': True, 'time': '08/18/2024, 12:35:40'}, {'success': True, 'time': '08/18/2024, 12:35:55'}, {'success': True, 'time': '08/18/2024, 12:37:13'}]}, 'pet': {}}\n"
     ]
    }
   ],
   "source": [
    "import requests\n",
    "\n",
    "# Отправка GET-запроса\n",
    "response = requests.get('http://127.0.0.1:5000/stats')\n",
    "print(response.json())"
   ]
  }
 ],
 "metadata": {
  "kernelspec": {
   "display_name": ".venv",
   "language": "python",
   "name": "python3"
  },
  "language_info": {
   "codemirror_mode": {
    "name": "ipython",
    "version": 3
   },
   "file_extension": ".py",
   "mimetype": "text/x-python",
   "name": "python",
   "nbconvert_exporter": "python",
   "pygments_lexer": "ipython3",
   "version": "3.12.5"
  }
 },
 "nbformat": 4,
 "nbformat_minor": 2
}
