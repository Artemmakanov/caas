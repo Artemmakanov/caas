{
 "cells": [
  {
   "cell_type": "code",
   "execution_count": 1,
   "metadata": {},
   "outputs": [
    {
     "name": "stdout",
     "output_type": "stream",
     "text": [
      "@Alex - Milk~\n",
      "UDP Server Response: Eaten by the Cat\n"
     ]
    }
   ],
   "source": [
    "import sys\n",
    "import os\n",
    "\n",
    "# Добавление пути к проекту\n",
    "\n",
    "sys.path.append(os.path.abspath(os.path.join('..')))\n",
    "\n",
    "from client import feed_cat, pet_cat\n",
    "\n",
    "# Отправка сообщения на UDP сервер\n",
    "\n",
    "import os\n",
    "\n",
    "CHUNK_SIZE = 400\n",
    "\n",
    "chunk_size = CHUNK_SIZE - 2\n",
    "message = \"@Alex - Milk\"\n",
    "intercept = int(len(message) % chunk_size > 0)\n",
    "\n",
    "for i in range(len(message) // chunk_size + intercept):\n",
    "    sub_message = message[i*chunk_size:(i+1)*chunk_size] + '~'\n",
    "    if i < len(message) // chunk_size + intercept - 1:\n",
    "        sub_message += str(i)\n",
    "\n",
    "    print(sub_message)\n",
    "    response = feed_cat(sub_message)\n",
    "    print(f\"UDP Server Response: {response}\")"
   ]
  },
  {
   "cell_type": "code",
   "execution_count": null,
   "metadata": {},
   "outputs": [],
   "source": []
  },
  {
   "cell_type": "code",
   "execution_count": null,
   "metadata": {},
   "outputs": [],
   "source": []
  },
  {
   "cell_type": "code",
   "execution_count": 2,
   "metadata": {},
   "outputs": [],
   "source": []
  },
  {
   "cell_type": "code",
   "execution_count": 2,
   "metadata": {},
   "outputs": [
    {
     "name": "stdout",
     "output_type": "stream",
     "text": [
      "TCP Server Response: \n",
      "TCP Server Response: \n",
      "TCP Server Response: \n",
      "TCP Server Response: \n",
      "TCP Server Response: Tolerated by the CatScratched by the Cat\n"
     ]
    }
   ],
   "source": [
    "\n",
    "# Отправка сообщения на TCP сервер\n",
    "CHUNK_SIZE = 4\n",
    "\n",
    "chunk_size = CHUNK_SIZE \n",
    "\n",
    "user_ids = [\"@Alex\", \"@Zavulon111\"]\n",
    "message = \"~\".join(user_ids) + '~'\n",
    "intercept = int(len(message) % chunk_size > 0)\n",
    "\n",
    "for i in range(len(message) // chunk_size + intercept):\n",
    "    sub_message = message[i*chunk_size:(i+1)*chunk_size] \n",
    "\n",
    "    # print(sub_message)\n",
    "    response = pet_cat(sub_message)\n",
    "\n",
    "\n",
    "    print(f\"TCP Server Response: {response}\")\n",
    "    \n"
   ]
  },
  {
   "cell_type": "code",
   "execution_count": 4,
   "metadata": {},
   "outputs": [
    {
     "name": "stdout",
     "output_type": "stream",
     "text": [
      "{'feeding': [], 'petting': []}\n"
     ]
    }
   ],
   "source": [
    "import requests\n",
    "\n",
    "# Отправка GET-запроса\n",
    "response = requests.get('http://127.0.0.1:5000/stats')\n",
    "print(response.json())"
   ]
  }
 ],
 "metadata": {
  "kernelspec": {
   "display_name": ".venv",
   "language": "python",
   "name": "python3"
  },
  "language_info": {
   "codemirror_mode": {
    "name": "ipython",
    "version": 3
   },
   "file_extension": ".py",
   "mimetype": "text/x-python",
   "name": "python",
   "nbconvert_exporter": "python",
   "pygments_lexer": "ipython3",
   "version": "3.12.5"
  }
 },
 "nbformat": 4,
 "nbformat_minor": 2
}
